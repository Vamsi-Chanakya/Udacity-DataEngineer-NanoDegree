{
 "cells": [
  {
   "cell_type": "code",
   "execution_count": 1,
   "metadata": {
    "editable": true
   },
   "outputs": [],
   "source": [
    "import datetime as dt\n",
    "import pandas as pd\n",
    "from pyspark.sql import SparkSession\n",
    "import pyspark.sql.types as t\n",
    "from pyspark.sql.functions import udf, col, when, isnan, count, upper, first, date_trunc\n",
    "from pyspark.sql.functions import year, month, dayofmonth, hour, weekofyear, date_format, dayofweek\n",
    "from pyspark.sql.types import StructField, StructType, StringType, LongType, IntegerType"
   ]
  },
  {
   "cell_type": "code",
   "execution_count": 2,
   "metadata": {
    "editable": true
   },
   "outputs": [],
   "source": [
    "def create_spark_session():\n",
    "    \n",
    "    \"\"\"\n",
    "    Get or Create a Spark Session\n",
    "    \n",
    "    return: Spark Session\n",
    "    \"\"\"\n",
    "    \n",
    "    spark = SparkSession \\\n",
    "        .builder \\\n",
    "        .config(\"spark.jars.packages\", \"org.apache.hadoop:hadoop-aws:2.7.0\") \\\n",
    "        .config(\"spark.jars.packages\", \"saurfang:spark-sas7bdat:2.0.0-s_2.11\") \\\n",
    "        .enableHiveSupport().getOrCreate()\n",
    "    return spark\n",
    "\n",
    "spark = create_spark_session()"
   ]
  },
  {
   "cell_type": "code",
   "execution_count": 3,
   "metadata": {
    "editable": true
   },
   "outputs": [
    {
     "data": {
      "text/html": [
       "\n",
       "            <div>\n",
       "                <p><b>SparkSession - hive</b></p>\n",
       "                \n",
       "        <div>\n",
       "            <p><b>SparkContext</b></p>\n",
       "\n",
       "            <p><a href=\"http://1a5a50caa31f:4040\">Spark UI</a></p>\n",
       "\n",
       "            <dl>\n",
       "              <dt>Version</dt>\n",
       "                <dd><code>v2.4.3</code></dd>\n",
       "              <dt>Master</dt>\n",
       "                <dd><code>local[*]</code></dd>\n",
       "              <dt>AppName</dt>\n",
       "                <dd><code>pyspark-shell</code></dd>\n",
       "            </dl>\n",
       "        </div>\n",
       "        \n",
       "            </div>\n",
       "        "
      ],
      "text/plain": [
       "<pyspark.sql.session.SparkSession at 0x7f5c3ef4ea90>"
      ]
     },
     "execution_count": 3,
     "metadata": {},
     "output_type": "execute_result"
    }
   ],
   "source": [
    "spark"
   ]
  },
  {
   "cell_type": "code",
   "execution_count": 4,
   "metadata": {
    "editable": true
   },
   "outputs": [
    {
     "name": "stdout",
     "output_type": "stream",
     "text": [
      "root\n",
      " |-- i94addr: string (nullable = true)\n",
      " |-- state: string (nullable = true)\n",
      "\n"
     ]
    }
   ],
   "source": [
    "addr_lookup_df = spark.read.csv(\"lookup/addr.csv\", header='true', inferSchema='true')\n",
    "addr_lookup_df.printSchema()"
   ]
  },
  {
   "cell_type": "code",
   "execution_count": 5,
   "metadata": {
    "editable": true
   },
   "outputs": [
    {
     "name": "stdout",
     "output_type": "stream",
     "text": [
      "+-------+----------+\n",
      "|i94addr|     state|\n",
      "+-------+----------+\n",
      "|     AL|   ALABAMA|\n",
      "|     AK|    ALASKA|\n",
      "|     AZ|   ARIZONA|\n",
      "|     AR|  ARKANSAS|\n",
      "|     CA|CALIFORNIA|\n",
      "+-------+----------+\n",
      "only showing top 5 rows\n",
      "\n"
     ]
    }
   ],
   "source": [
    "addr_lookup_df.show(5)"
   ]
  },
  {
   "cell_type": "code",
   "execution_count": 6,
   "metadata": {
    "editable": true
   },
   "outputs": [
    {
     "name": "stdout",
     "output_type": "stream",
     "text": [
      "root\n",
      " |-- i94visa: integer (nullable = true)\n",
      " |-- visa: string (nullable = true)\n",
      "\n"
     ]
    }
   ],
   "source": [
    "visa_lookup_df = spark.read.csv(\"lookup/visa.csv\", header='true', inferSchema='true')\n",
    "visa_lookup_df.printSchema()"
   ]
  },
  {
   "cell_type": "code",
   "execution_count": 7,
   "metadata": {
    "editable": true
   },
   "outputs": [
    {
     "name": "stdout",
     "output_type": "stream",
     "text": [
      "+-------+---------+\n",
      "|i94visa|     visa|\n",
      "+-------+---------+\n",
      "|      1| Business|\n",
      "|      2| Pleasure|\n",
      "|      3|  Student|\n",
      "+-------+---------+\n",
      "\n"
     ]
    }
   ],
   "source": [
    "visa_lookup_df.show()"
   ]
  },
  {
   "cell_type": "code",
   "execution_count": 8,
   "metadata": {
    "editable": true
   },
   "outputs": [
    {
     "name": "stdout",
     "output_type": "stream",
     "text": [
      "root\n",
      " |-- i94mode: integer (nullable = true)\n",
      " |-- mode: string (nullable = true)\n",
      "\n"
     ]
    }
   ],
   "source": [
    "mode_lookup_df = spark.read.csv(\"lookup/mode.csv\", header='true', inferSchema='true')\n",
    "mode_lookup_df.printSchema()"
   ]
  },
  {
   "cell_type": "code",
   "execution_count": 9,
   "metadata": {
    "editable": true
   },
   "outputs": [
    {
     "name": "stdout",
     "output_type": "stream",
     "text": [
      "+-------+------------+\n",
      "|i94mode|        mode|\n",
      "+-------+------------+\n",
      "|      1|         Air|\n",
      "|      2|         Sea|\n",
      "|      3|        Land|\n",
      "|      9|Not reported|\n",
      "+-------+------------+\n",
      "\n"
     ]
    }
   ],
   "source": [
    "mode_lookup_df.show()"
   ]
  },
  {
   "cell_type": "code",
   "execution_count": 10,
   "metadata": {
    "editable": true
   },
   "outputs": [
    {
     "name": "stdout",
     "output_type": "stream",
     "text": [
      "root\n",
      " |-- i94port: string (nullable = true)\n",
      " |-- portname: string (nullable = true)\n",
      " |-- country: string (nullable = true)\n",
      " |-- addr: string (nullable = true)\n",
      "\n"
     ]
    }
   ],
   "source": [
    "port_lookup_df = spark.read.csv(\"lookup/port.csv\", header='true', inferSchema='true')\n",
    "port_lookup_df.printSchema()"
   ]
  },
  {
   "cell_type": "code",
   "execution_count": 11,
   "metadata": {
    "editable": true
   },
   "outputs": [
    {
     "name": "stdout",
     "output_type": "stream",
     "text": [
      "+-------+--------------------+-------------+----+\n",
      "|i94port|            portname|      country|addr|\n",
      "+-------+--------------------+-------------+----+\n",
      "|    ALC|               ALCAN|UNITED STATES|  AK|\n",
      "|    ANC|           ANCHORAGE|UNITED STATES|  AK|\n",
      "|    BAR|BAKERAAF-BAKERISLAND|UNITED STATES|  AK|\n",
      "|    DAC|        DALTONSCACHE|UNITED STATES|  AK|\n",
      "|    PIZ|  DEWSTATIONPTLAYDEW|UNITED STATES|  AK|\n",
      "+-------+--------------------+-------------+----+\n",
      "only showing top 5 rows\n",
      "\n"
     ]
    }
   ],
   "source": [
    "port_lookup_df.show(5)"
   ]
  },
  {
   "cell_type": "code",
   "execution_count": 12,
   "metadata": {
    "editable": true
   },
   "outputs": [
    {
     "name": "stdout",
     "output_type": "stream",
     "text": [
      "root\n",
      " |-- i94country: integer (nullable = true)\n",
      " |-- country: string (nullable = true)\n",
      "\n"
     ]
    }
   ],
   "source": [
    "country_lookup_df = spark.read.csv(\"lookup/country.csv\", header='true', inferSchema='true')\n",
    "country_lookup_df.printSchema()"
   ]
  },
  {
   "cell_type": "code",
   "execution_count": 13,
   "metadata": {
    "editable": true
   },
   "outputs": [
    {
     "name": "stdout",
     "output_type": "stream",
     "text": [
      "+----------+-----------+\n",
      "|i94country|    country|\n",
      "+----------+-----------+\n",
      "|       582|     MEXICO|\n",
      "|       236|AFGHANISTAN|\n",
      "|       101|    ALBANIA|\n",
      "|       316|    ALGERIA|\n",
      "|       102|    ANDORRA|\n",
      "+----------+-----------+\n",
      "only showing top 5 rows\n",
      "\n"
     ]
    }
   ],
   "source": [
    "country_lookup_df.show(5)"
   ]
  },
  {
   "cell_type": "code",
   "execution_count": 14,
   "metadata": {
    "editable": true
   },
   "outputs": [],
   "source": [
    "# Process cities demographics file\n",
    "cities_df = spark.read.csv(\"data/us-cities-demographics.csv\", sep=';', header=True)\n",
    "\n",
    "# Creating 'cities_pivot_df' dataset\n",
    "cities_pivot_df = cities_df.select(\"city\",\"state code\",\"Race\",\"count\") \\\n",
    "                                  .groupby(cities_df.City, \"state code\") \\\n",
    "                                  .pivot(\"Race\") \\\n",
    "                                  .agg(first(\"Count\"))\n",
    "\n",
    "drop_cols_list = [\"Number of Veterans\",\"Race\",\"Count\"]\n",
    "\n",
    "# Drop columns we don't need and drop duplicate rows\n",
    "cities_final_df = cities_df.drop(*drop_cols_list).dropDuplicates()\n",
    "\n",
    "# Finally saving (committing) joined cities_final_df dataset\n",
    "cities_final_df = cities_final_df.join(cities_pivot_df, [\"City\",\"state code\"])\n",
    "\n",
    "# Change `state code` column name to `state_code` and other similar problems to avoid parquet complications\n",
    "cities_final_df = cities_final_df.withColumnRenamed(\"State Code\", \"State_Code\") \\\n",
    "                                     .withColumnRenamed(\"Median Age\", \"Median_Age\") \\\n",
    "                                     .withColumnRenamed(\"Male Population\", \"Male_Population\") \\\n",
    "                                     .withColumnRenamed(\"Female Population\", \"Female_Population\") \\\n",
    "                                     .withColumnRenamed(\"Total Population\", \"Total_Population\") \\\n",
    "                                     .withColumnRenamed(\"Foreign-born\", \"Foreign_born\") \\\n",
    "                                     .withColumnRenamed(\"Average Household Size\", \"Avg_Household_Size\") \\\n",
    "                                     .withColumnRenamed(\"American Indian and Alaska Native\", \"Native_Population\") \\\n",
    "                                     .withColumnRenamed(\"Asian\", \"Asian_Population\") \\\n",
    "                                     .withColumnRenamed(\"Black or African-American\", \"African_American_Population\") \\\n",
    "                                     .withColumnRenamed(\"Hispanic or Latino\", \"Hispanic_Population\") \\\n",
    "                                     .withColumnRenamed(\"White\", \"White_population\")"
   ]
  },
  {
   "cell_type": "code",
   "execution_count": 15,
   "metadata": {
    "editable": true
   },
   "outputs": [
    {
     "name": "stdout",
     "output_type": "stream",
     "text": [
      "root\n",
      " |-- City: string (nullable = true)\n",
      " |-- State_Code: string (nullable = true)\n",
      " |-- State: string (nullable = true)\n",
      " |-- Median_Age: string (nullable = true)\n",
      " |-- Male_Population: string (nullable = true)\n",
      " |-- Female_Population: string (nullable = true)\n",
      " |-- Total_Population: string (nullable = true)\n",
      " |-- Foreign_born: string (nullable = true)\n",
      " |-- Avg_Household_Size: string (nullable = true)\n",
      " |-- Native_Population: string (nullable = true)\n",
      " |-- Asian_Population: string (nullable = true)\n",
      " |-- African_American_Population: string (nullable = true)\n",
      " |-- Hispanic_Population: string (nullable = true)\n",
      " |-- White_population: string (nullable = true)\n",
      "\n"
     ]
    }
   ],
   "source": [
    "cities_final_df.printSchema()"
   ]
  },
  {
   "cell_type": "code",
   "execution_count": 16,
   "metadata": {
    "editable": true
   },
   "outputs": [
    {
     "name": "stdout",
     "output_type": "stream",
     "text": [
      "+---------------+----------+-----------+----------+---------------+-----------------+----------------+------------+------------------+-----------------+----------------+---------------------------+-------------------+----------------+\n",
      "|           City|State_Code|      State|Median_Age|Male_Population|Female_Population|Total_Population|Foreign_born|Avg_Household_Size|Native_Population|Asian_Population|African_American_Population|Hispanic_Population|White_population|\n",
      "+---------------+----------+-----------+----------+---------------+-----------------+----------------+------------+------------------+-----------------+----------------+---------------------------+-------------------+----------------+\n",
      "|Highlands Ranch|        CO|   Colorado|      39.6|          49186|            53281|          102467|        8827|              2.72|             1480|            5650|                       1779|               8393|           94499|\n",
      "|           Kent|        WA| Washington|      33.4|          61825|            65137|          126962|       38175|              3.06|             3651|           26168|                      20450|              21928|           67918|\n",
      "|        Madison|        WI|  Wisconsin|      30.7|         122596|           126360|          248956|       30090|              2.23|             2296|           23937|                      20424|              19697|          204302|\n",
      "|         Denver|        CO|   Colorado|      34.1|         341137|           341408|          682545|      113222|              2.33|            14008|           32491|                      72288|             207847|          546370|\n",
      "|         Caguas|        PR|Puerto Rico|      40.4|          34743|            42265|           77008|        null|              null|              624|            null|                       null|              76349|            null|\n",
      "+---------------+----------+-----------+----------+---------------+-----------------+----------------+------------+------------------+-----------------+----------------+---------------------------+-------------------+----------------+\n",
      "only showing top 5 rows\n",
      "\n"
     ]
    }
   ],
   "source": [
    "cities_final_df.show(5)"
   ]
  },
  {
   "cell_type": "code",
   "execution_count": 17,
   "metadata": {
    "editable": true
   },
   "outputs": [],
   "source": [
    "cities_final_df.write.mode('overwrite').parquet(\"output/us_cities_demographics\") "
   ]
  },
  {
   "cell_type": "code",
   "execution_count": 18,
   "metadata": {
    "editable": true
   },
   "outputs": [
    {
     "name": "stdout",
     "output_type": "stream",
     "text": [
      "root\n",
      " |-- City: string (nullable = true)\n",
      " |-- State_Code: string (nullable = true)\n",
      " |-- State: string (nullable = true)\n",
      " |-- Median_Age: string (nullable = true)\n",
      " |-- Male_Population: string (nullable = true)\n",
      " |-- Female_Population: string (nullable = true)\n",
      " |-- Total_Population: string (nullable = true)\n",
      " |-- Foreign_born: string (nullable = true)\n",
      " |-- Avg_Household_Size: string (nullable = true)\n",
      " |-- Native_Population: string (nullable = true)\n",
      " |-- Asian_Population: string (nullable = true)\n",
      " |-- African_American_Population: string (nullable = true)\n",
      " |-- Hispanic_Population: string (nullable = true)\n",
      " |-- White_population: string (nullable = true)\n",
      "\n"
     ]
    }
   ],
   "source": [
    "cities_outputdf = spark.read.parquet(\"output/us_cities_demographics\")\n",
    "cities_outputdf.printSchema()"
   ]
  },
  {
   "cell_type": "code",
   "execution_count": 19,
   "metadata": {
    "editable": true
   },
   "outputs": [
    {
     "name": "stdout",
     "output_type": "stream",
     "text": [
      "root\n",
      " |-- cicid: double (nullable = true)\n",
      " |-- i94yr: double (nullable = true)\n",
      " |-- i94mon: double (nullable = true)\n",
      " |-- i94cit: double (nullable = true)\n",
      " |-- i94res: double (nullable = true)\n",
      " |-- i94port: string (nullable = true)\n",
      " |-- i94mode: double (nullable = true)\n",
      " |-- i94addr: string (nullable = true)\n",
      " |-- i94bir: double (nullable = true)\n",
      " |-- i94visa: double (nullable = true)\n",
      " |-- biryear: double (nullable = true)\n",
      " |-- gender: string (nullable = true)\n",
      " |-- visatype: string (nullable = true)\n",
      " |-- arrdate: double (nullable = true)\n",
      " |-- depdate: double (nullable = true)\n",
      "\n"
     ]
    }
   ],
   "source": [
    "# Read i94 non-immigration dataset\n",
    "immigration_df=spark.read.parquet(\"data/sas_data\") \\\n",
    "            .select(\"cicid\",\"i94yr\",\"i94mon\",\"i94cit\",\"i94res\",\"i94port\",\"i94mode\",\"i94addr\",\"i94bir\",\"i94visa\",\"biryear\",\"gender\",\"visatype\",\"arrdate\",\"depdate\")\n",
    "immigration_df.printSchema()"
   ]
  },
  {
   "cell_type": "code",
   "execution_count": 20,
   "metadata": {
    "editable": true
   },
   "outputs": [
    {
     "data": {
      "text/plain": [
       "879748"
      ]
     },
     "execution_count": 20,
     "metadata": {},
     "output_type": "execute_result"
    }
   ],
   "source": [
    "immigration_df.count()"
   ]
  },
  {
   "cell_type": "code",
   "execution_count": 21,
   "metadata": {
    "editable": true
   },
   "outputs": [],
   "source": [
    "immigration_fmt_df = immigration_df.withColumn(\"cicid\", immigration_df.cicid.cast(IntegerType())) \\\n",
    "                                   .withColumn(\"i94res\", immigration_df.i94res.cast(IntegerType())) \\\n",
    "                                   .withColumn(\"i94yr\", immigration_df.i94yr.cast(IntegerType())) \\\n",
    "                                   .withColumn(\"i94mon\", immigration_df.i94mon.cast(IntegerType())) \\\n",
    "                                   .withColumn(\"i94mode\", immigration_df.i94mode.cast(IntegerType())) \\\n",
    "                                   .withColumn(\"i94bir\", immigration_df.i94bir.cast(IntegerType())) \\\n",
    "                                   .withColumn(\"i94visa\", immigration_df.i94visa.cast(IntegerType())) \\\n",
    "                                   .withColumn(\"biryear\", immigration_df.biryear.cast(IntegerType())) \\\n",
    "                                   .withColumn(\"i94cit\", immigration_df.i94cit.cast(IntegerType())) \\\n",
    "                                   .withColumn(\"arrdate\", immigration_df.arrdate.cast(IntegerType())) \\\n",
    "                                   .withColumn(\"depdate\", immigration_df.depdate.cast(IntegerType())) \\\n",
    "                                   .withColumnRenamed(\"i94res\", \"i94country\")"
   ]
  },
  {
   "cell_type": "code",
   "execution_count": 22,
   "metadata": {
    "editable": true
   },
   "outputs": [
    {
     "name": "stdout",
     "output_type": "stream",
     "text": [
      "+------+-----+------+------+----------+-------+-------+-------+------+-------+-------+------+--------+-------+-------+\n",
      "| cicid|i94yr|i94mon|i94cit|i94country|i94port|i94mode|i94addr|i94bir|i94visa|biryear|gender|visatype|arrdate|depdate|\n",
      "+------+-----+------+------+----------+-------+-------+-------+------+-------+-------+------+--------+-------+-------+\n",
      "|459651| 2016|     4|   135|       135|    ATL|      1|     FL|    54|      2|   1962|  null|      WT|  20547|  20559|\n",
      "|459652| 2016|     4|   135|       135|    ATL|      1|     FL|    74|      2|   1942|     F|      WT|  20547|  20555|\n",
      "|459653| 2016|     4|   135|       135|    ATL|      1|     FL|    44|      2|   1972|     M|      B2|  20547|  20557|\n",
      "|459654| 2016|     4|   135|       135|    ATL|      1|      G|    38|      2|   1978|  null|      WT|  20547|  20555|\n",
      "|459655| 2016|     4|   135|       135|    ATL|      1|     GA|    64|      2|   1952|     F|      WT|  20547|   null|\n",
      "+------+-----+------+------+----------+-------+-------+-------+------+-------+-------+------+--------+-------+-------+\n",
      "only showing top 5 rows\n",
      "\n"
     ]
    }
   ],
   "source": [
    "immigration_fmt_df.show(5)"
   ]
  },
  {
   "cell_type": "code",
   "execution_count": 23,
   "metadata": {
    "editable": true
   },
   "outputs": [
    {
     "data": {
      "text/plain": [
       "879748"
      ]
     },
     "execution_count": 23,
     "metadata": {},
     "output_type": "execute_result"
    }
   ],
   "source": [
    "immigration_fmt_df.count()"
   ]
  },
  {
   "cell_type": "code",
   "execution_count": 24,
   "metadata": {
    "editable": true
   },
   "outputs": [
    {
     "name": "stdout",
     "output_type": "stream",
     "text": [
      "root\n",
      " |-- cicid: integer (nullable = true)\n",
      " |-- i94yr: integer (nullable = true)\n",
      " |-- i94mon: integer (nullable = true)\n",
      " |-- i94cit: integer (nullable = true)\n",
      " |-- i94port: string (nullable = true)\n",
      " |-- i94mode: integer (nullable = true)\n",
      " |-- i94addr: string (nullable = true)\n",
      " |-- i94bir: integer (nullable = true)\n",
      " |-- i94visa: integer (nullable = true)\n",
      " |-- biryear: integer (nullable = true)\n",
      " |-- gender: string (nullable = true)\n",
      " |-- visatype: string (nullable = true)\n",
      " |-- arrdate: integer (nullable = true)\n",
      " |-- depdate: integer (nullable = true)\n",
      " |-- res_cnty: string (nullable = true)\n",
      "\n"
     ]
    }
   ],
   "source": [
    "immigration_ctry_df = immigration_fmt_df.join(country_lookup_df, \"i94country\", 'left_outer') \\\n",
    "                                        .drop(\"i94country\") \\\n",
    "                                        .withColumnRenamed(\"country\", \"res_cnty\")\n",
    "immigration_ctry_df.printSchema()"
   ]
  },
  {
   "cell_type": "code",
   "execution_count": 25,
   "metadata": {
    "editable": true
   },
   "outputs": [
    {
     "data": {
      "text/plain": [
       "879748"
      ]
     },
     "execution_count": 25,
     "metadata": {},
     "output_type": "execute_result"
    }
   ],
   "source": [
    "immigration_ctry_df.count()"
   ]
  },
  {
   "cell_type": "code",
   "execution_count": 26,
   "metadata": {
    "editable": true
   },
   "outputs": [
    {
     "name": "stdout",
     "output_type": "stream",
     "text": [
      "+------+-----+------+------+-------+-------+-------+------+-------+-------+------+--------+-------+-------+--------------+\n",
      "| cicid|i94yr|i94mon|i94cit|i94port|i94mode|i94addr|i94bir|i94visa|biryear|gender|visatype|arrdate|depdate|      res_cnty|\n",
      "+------+-----+------+------+-------+-------+-------+------+-------+-------+------+--------+-------+-------+--------------+\n",
      "|459651| 2016|     4|   135|    ATL|      1|     FL|    54|      2|   1962|  null|      WT|  20547|  20559|UNITED KINGDOM|\n",
      "|459652| 2016|     4|   135|    ATL|      1|     FL|    74|      2|   1942|     F|      WT|  20547|  20555|UNITED KINGDOM|\n",
      "|459653| 2016|     4|   135|    ATL|      1|     FL|    44|      2|   1972|     M|      B2|  20547|  20557|UNITED KINGDOM|\n",
      "|459654| 2016|     4|   135|    ATL|      1|      G|    38|      2|   1978|  null|      WT|  20547|  20555|UNITED KINGDOM|\n",
      "|459655| 2016|     4|   135|    ATL|      1|     GA|    64|      2|   1952|     F|      WT|  20547|   null|UNITED KINGDOM|\n",
      "+------+-----+------+------+-------+-------+-------+------+-------+-------+------+--------+-------+-------+--------------+\n",
      "only showing top 5 rows\n",
      "\n"
     ]
    }
   ],
   "source": [
    "immigration_ctry_df.show(5)"
   ]
  },
  {
   "cell_type": "code",
   "execution_count": 27,
   "metadata": {
    "editable": true
   },
   "outputs": [],
   "source": [
    "immigration_visa_df = immigration_ctry_df.join(visa_lookup_df, 'i94visa', 'left_outer').drop(\"i94visa\")"
   ]
  },
  {
   "cell_type": "code",
   "execution_count": 28,
   "metadata": {
    "editable": true
   },
   "outputs": [
    {
     "name": "stdout",
     "output_type": "stream",
     "text": [
      "+------+-----+------+------+-------+-------+-------+------+-------+------+--------+-------+-------+--------------+---------+\n",
      "| cicid|i94yr|i94mon|i94cit|i94port|i94mode|i94addr|i94bir|biryear|gender|visatype|arrdate|depdate|      res_cnty|     visa|\n",
      "+------+-----+------+------+-------+-------+-------+------+-------+------+--------+-------+-------+--------------+---------+\n",
      "|459651| 2016|     4|   135|    ATL|      1|     FL|    54|   1962|  null|      WT|  20547|  20559|UNITED KINGDOM| Pleasure|\n",
      "|459652| 2016|     4|   135|    ATL|      1|     FL|    74|   1942|     F|      WT|  20547|  20555|UNITED KINGDOM| Pleasure|\n",
      "|459653| 2016|     4|   135|    ATL|      1|     FL|    44|   1972|     M|      B2|  20547|  20557|UNITED KINGDOM| Pleasure|\n",
      "|459654| 2016|     4|   135|    ATL|      1|      G|    38|   1978|  null|      WT|  20547|  20555|UNITED KINGDOM| Pleasure|\n",
      "|459655| 2016|     4|   135|    ATL|      1|     GA|    64|   1952|     F|      WT|  20547|   null|UNITED KINGDOM| Pleasure|\n",
      "+------+-----+------+------+-------+-------+-------+------+-------+------+--------+-------+-------+--------------+---------+\n",
      "only showing top 5 rows\n",
      "\n"
     ]
    }
   ],
   "source": [
    "immigration_visa_df.show(5)"
   ]
  },
  {
   "cell_type": "code",
   "execution_count": 29,
   "metadata": {
    "editable": true
   },
   "outputs": [],
   "source": [
    "immigration_mod_df = immigration_visa_df.join(mode_lookup_df, 'i94mode', 'left_outer').drop(\"i94mode\")"
   ]
  },
  {
   "cell_type": "code",
   "execution_count": 30,
   "metadata": {
    "editable": true
   },
   "outputs": [
    {
     "name": "stdout",
     "output_type": "stream",
     "text": [
      "+------+-----+------+------+-------+-------+------+-------+------+--------+-------+-------+--------------+---------+----+\n",
      "| cicid|i94yr|i94mon|i94cit|i94port|i94addr|i94bir|biryear|gender|visatype|arrdate|depdate|      res_cnty|     visa|mode|\n",
      "+------+-----+------+------+-------+-------+------+-------+------+--------+-------+-------+--------------+---------+----+\n",
      "|459651| 2016|     4|   135|    ATL|     FL|    54|   1962|  null|      WT|  20547|  20559|UNITED KINGDOM| Pleasure| Air|\n",
      "|459652| 2016|     4|   135|    ATL|     FL|    74|   1942|     F|      WT|  20547|  20555|UNITED KINGDOM| Pleasure| Air|\n",
      "|459653| 2016|     4|   135|    ATL|     FL|    44|   1972|     M|      B2|  20547|  20557|UNITED KINGDOM| Pleasure| Air|\n",
      "|459654| 2016|     4|   135|    ATL|      G|    38|   1978|  null|      WT|  20547|  20555|UNITED KINGDOM| Pleasure| Air|\n",
      "|459655| 2016|     4|   135|    ATL|     GA|    64|   1952|     F|      WT|  20547|   null|UNITED KINGDOM| Pleasure| Air|\n",
      "+------+-----+------+------+-------+-------+------+-------+------+--------+-------+-------+--------------+---------+----+\n",
      "only showing top 5 rows\n",
      "\n"
     ]
    }
   ],
   "source": [
    "immigration_mod_df.show(5)"
   ]
  },
  {
   "cell_type": "code",
   "execution_count": 31,
   "metadata": {
    "editable": true
   },
   "outputs": [],
   "source": [
    "immigration_addr_df = immigration_mod_df.join(addr_lookup_df, 'i94addr', 'left_outer').drop(\"i94addr\")"
   ]
  },
  {
   "cell_type": "code",
   "execution_count": 32,
   "metadata": {
    "editable": true
   },
   "outputs": [
    {
     "name": "stdout",
     "output_type": "stream",
     "text": [
      "+------+-----+------+------+-------+------+-------+------+--------+-------+-------+--------------+---------+----+-------+\n",
      "| cicid|i94yr|i94mon|i94cit|i94port|i94bir|biryear|gender|visatype|arrdate|depdate|      res_cnty|     visa|mode|  state|\n",
      "+------+-----+------+------+-------+------+-------+------+--------+-------+-------+--------------+---------+----+-------+\n",
      "|459651| 2016|     4|   135|    ATL|    54|   1962|  null|      WT|  20547|  20559|UNITED KINGDOM| Pleasure| Air|FLORIDA|\n",
      "|459652| 2016|     4|   135|    ATL|    74|   1942|     F|      WT|  20547|  20555|UNITED KINGDOM| Pleasure| Air|FLORIDA|\n",
      "|459653| 2016|     4|   135|    ATL|    44|   1972|     M|      B2|  20547|  20557|UNITED KINGDOM| Pleasure| Air|FLORIDA|\n",
      "|459654| 2016|     4|   135|    ATL|    38|   1978|  null|      WT|  20547|  20555|UNITED KINGDOM| Pleasure| Air|   null|\n",
      "|459655| 2016|     4|   135|    ATL|    64|   1952|     F|      WT|  20547|   null|UNITED KINGDOM| Pleasure| Air|GEORGIA|\n",
      "+------+-----+------+------+-------+------+-------+------+--------+-------+-------+--------------+---------+----+-------+\n",
      "only showing top 5 rows\n",
      "\n"
     ]
    }
   ],
   "source": [
    "immigration_addr_df.show(5)"
   ]
  },
  {
   "cell_type": "code",
   "execution_count": 33,
   "metadata": {
    "editable": true
   },
   "outputs": [
    {
     "data": {
      "text/plain": [
       "879748"
      ]
     },
     "execution_count": 33,
     "metadata": {},
     "output_type": "execute_result"
    }
   ],
   "source": [
    "immigration_addr_df.count()"
   ]
  },
  {
   "cell_type": "code",
   "execution_count": 34,
   "metadata": {
    "editable": true
   },
   "outputs": [
    {
     "name": "stdout",
     "output_type": "stream",
     "text": [
      "root\n",
      " |-- cicid: integer (nullable = true)\n",
      " |-- i94yr: integer (nullable = true)\n",
      " |-- i94mon: integer (nullable = true)\n",
      " |-- i94cit: integer (nullable = true)\n",
      " |-- i94bir: integer (nullable = true)\n",
      " |-- biryear: integer (nullable = true)\n",
      " |-- gender: string (nullable = true)\n",
      " |-- visatype: string (nullable = true)\n",
      " |-- arrdate: integer (nullable = true)\n",
      " |-- depdate: integer (nullable = true)\n",
      " |-- res_cnty: string (nullable = true)\n",
      " |-- visa: string (nullable = true)\n",
      " |-- mode: string (nullable = true)\n",
      " |-- state: string (nullable = true)\n",
      " |-- portname: string (nullable = true)\n",
      " |-- port_cnty: string (nullable = true)\n",
      "\n"
     ]
    }
   ],
   "source": [
    "# Add i94port city and state columns to immegration dataframe\n",
    "immigration_port_df=immigration_addr_df.join(port_lookup_df, 'i94port', 'left') \\\n",
    "                                       .drop(\"i94port\",\"addr\") \\\n",
    "                                       .withColumnRenamed(\"country\", \"port_cnty\")\n",
    "immigration_port_df.printSchema()"
   ]
  },
  {
   "cell_type": "code",
   "execution_count": 35,
   "metadata": {
    "editable": true
   },
   "outputs": [
    {
     "data": {
      "text/plain": [
       "879748"
      ]
     },
     "execution_count": 35,
     "metadata": {},
     "output_type": "execute_result"
    }
   ],
   "source": [
    "immigration_port_df.count()"
   ]
  },
  {
   "cell_type": "code",
   "execution_count": 36,
   "metadata": {
    "editable": true
   },
   "outputs": [
    {
     "name": "stdout",
     "output_type": "stream",
     "text": [
      "+------+-----+------+------+------+-------+------+--------+-------+-------+--------------+---------+----+-------+--------+-------------+\n",
      "| cicid|i94yr|i94mon|i94cit|i94bir|biryear|gender|visatype|arrdate|depdate|      res_cnty|     visa|mode|  state|portname|    port_cnty|\n",
      "+------+-----+------+------+------+-------+------+--------+-------+-------+--------------+---------+----+-------+--------+-------------+\n",
      "|459651| 2016|     4|   135|    54|   1962|  null|      WT|  20547|  20559|UNITED KINGDOM| Pleasure| Air|FLORIDA| ATLANTA|UNITED STATES|\n",
      "|459652| 2016|     4|   135|    74|   1942|     F|      WT|  20547|  20555|UNITED KINGDOM| Pleasure| Air|FLORIDA| ATLANTA|UNITED STATES|\n",
      "|459653| 2016|     4|   135|    44|   1972|     M|      B2|  20547|  20557|UNITED KINGDOM| Pleasure| Air|FLORIDA| ATLANTA|UNITED STATES|\n",
      "|459654| 2016|     4|   135|    38|   1978|  null|      WT|  20547|  20555|UNITED KINGDOM| Pleasure| Air|   null| ATLANTA|UNITED STATES|\n",
      "|459655| 2016|     4|   135|    64|   1952|     F|      WT|  20547|   null|UNITED KINGDOM| Pleasure| Air|GEORGIA| ATLANTA|UNITED STATES|\n",
      "+------+-----+------+------+------+-------+------+--------+-------+-------+--------------+---------+----+-------+--------+-------------+\n",
      "only showing top 5 rows\n",
      "\n"
     ]
    }
   ],
   "source": [
    "immigration_port_df.show(5)"
   ]
  },
  {
   "cell_type": "code",
   "execution_count": 37,
   "metadata": {
    "editable": true
   },
   "outputs": [],
   "source": [
    "get_date = udf(lambda x: (dt.datetime(1960, 1, 1).date() + dt.timedelta(x)).isoformat() if x else None)\n",
    "immigrant_date_df = immigration_port_df.withColumn(\"arrival\", get_date(immigration_port_df.arrdate)) \\\n",
    "                                       .withColumn(\"departure\", get_date(immigration_port_df.depdate)) "
   ]
  },
  {
   "cell_type": "code",
   "execution_count": 38,
   "metadata": {
    "editable": true
   },
   "outputs": [
    {
     "data": {
      "text/plain": [
       "879748"
      ]
     },
     "execution_count": 38,
     "metadata": {},
     "output_type": "execute_result"
    }
   ],
   "source": [
    "immigrant_date_df.count()"
   ]
  },
  {
   "cell_type": "code",
   "execution_count": 39,
   "metadata": {
    "editable": true
   },
   "outputs": [],
   "source": [
    "immigrant_date_df.write.mode(\"overwrite\").partitionBy(\"i94yr\", \"i94mon\").parquet('output/immigrant_fact_table')"
   ]
  },
  {
   "cell_type": "code",
   "execution_count": 40,
   "metadata": {
    "editable": true
   },
   "outputs": [
    {
     "name": "stdout",
     "output_type": "stream",
     "text": [
      "+-------+-------+----------+----------+\n",
      "|arrdate|depdate|   arrival| departure|\n",
      "+-------+-------+----------+----------+\n",
      "|  20547|  20559|2016-04-03|2016-04-15|\n",
      "|  20547|  20555|2016-04-03|2016-04-11|\n",
      "|  20547|  20557|2016-04-03|2016-04-13|\n",
      "|  20547|  20555|2016-04-03|2016-04-11|\n",
      "|  20547|   null|2016-04-03|      null|\n",
      "+-------+-------+----------+----------+\n",
      "only showing top 5 rows\n",
      "\n"
     ]
    }
   ],
   "source": [
    "immigrant_date_df.select(\"arrdate\",\"depdate\",\"arrival\",\"departure\").show(5)"
   ]
  },
  {
   "cell_type": "code",
   "execution_count": 41,
   "metadata": {
    "editable": true
   },
   "outputs": [],
   "source": [
    "arrival_date = immigrant_date_df.select(col('arrdate').alias('arrival_sasdate'),\n",
    "                                       col('arrival').alias('arrival_date'),\n",
    "                                       date_format('arrival','M').alias('arrival_month'),\n",
    "                                       date_format('arrival','E').alias('arrival_dayofweek'), \n",
    "                                       date_format('arrival', 'y').alias('arrival_year'), \n",
    "                                       date_format('arrival', 'd').alias('arrival_day'),\n",
    "                                      date_format('arrival','w').alias('arrival_weekofyear')).dropDuplicates()"
   ]
  },
  {
   "cell_type": "code",
   "execution_count": 42,
   "metadata": {
    "editable": true
   },
   "outputs": [
    {
     "name": "stdout",
     "output_type": "stream",
     "text": [
      "+---------------+------------+-------------+-----------------+------------+-----------+------------------+\n",
      "|arrival_sasdate|arrival_date|arrival_month|arrival_dayofweek|arrival_year|arrival_day|arrival_weekofyear|\n",
      "+---------------+------------+-------------+-----------------+------------+-----------+------------------+\n",
      "|          20553|  2016-04-09|            4|              Sat|        2016|          9|                15|\n",
      "|          20550|  2016-04-06|            4|              Wed|        2016|          6|                15|\n",
      "|          20554|  2016-04-10|            4|              Sun|        2016|         10|                16|\n",
      "|          20546|  2016-04-02|            4|              Sat|        2016|          2|                14|\n",
      "|          20551|  2016-04-07|            4|              Thu|        2016|          7|                15|\n",
      "+---------------+------------+-------------+-----------------+------------+-----------+------------------+\n",
      "only showing top 5 rows\n",
      "\n"
     ]
    }
   ],
   "source": [
    "arrival_date.show(5)"
   ]
  },
  {
   "cell_type": "code",
   "execution_count": 43,
   "metadata": {
    "editable": true
   },
   "outputs": [],
   "source": [
    "arrival_date.createOrReplaceTempView(\"arrival_date\")\n",
    "arrival_season = spark.sql('''select cast(arrival_sasdate as int),\n",
    "                             arrival_date,\n",
    "                             arrival_month,\n",
    "                             arrival_dayofweek,\n",
    "                             arrival_year,\n",
    "                             arrival_day,\n",
    "                             arrival_weekofyear,\n",
    "                             CASE WHEN arrival_month IN (12, 1, 2) THEN 'winter' \n",
    "                                    WHEN arrival_month IN (3, 4, 5) THEN 'spring' \n",
    "                                    WHEN arrival_month IN (6, 7, 8) THEN 'summer' \n",
    "                                    ELSE 'autumn' \n",
    "                             END AS date_season from arrival_date''')"
   ]
  },
  {
   "cell_type": "code",
   "execution_count": 44,
   "metadata": {
    "editable": true
   },
   "outputs": [],
   "source": [
    "arrival_season.write.mode(\"overwrite\").partitionBy(\"arrival_year\", \"arrival_month\").parquet('output/arrival_season')"
   ]
  },
  {
   "cell_type": "code",
   "execution_count": 45,
   "metadata": {
    "editable": true
   },
   "outputs": [],
   "source": [
    "arrival_output_df = spark.read.parquet(\"output/arrival_season\")"
   ]
  },
  {
   "cell_type": "code",
   "execution_count": 46,
   "metadata": {
    "editable": true
   },
   "outputs": [
    {
     "name": "stdout",
     "output_type": "stream",
     "text": [
      "+---------------+------------+-----------------+-----------+------------------+-----------+------------+-------------+\n",
      "|arrival_sasdate|arrival_date|arrival_dayofweek|arrival_day|arrival_weekofyear|date_season|arrival_year|arrival_month|\n",
      "+---------------+------------+-----------------+-----------+------------------+-----------+------------+-------------+\n",
      "|          20554|  2016-04-10|              Sun|         10|                16|     spring|        2016|            4|\n",
      "|          20573|  2016-04-29|              Fri|         29|                18|     spring|        2016|            4|\n",
      "|          20551|  2016-04-07|              Thu|          7|                15|     spring|        2016|            4|\n",
      "|          20549|  2016-04-05|              Tue|          5|                15|     spring|        2016|            4|\n",
      "|          20547|  2016-04-03|              Sun|          3|                15|     spring|        2016|            4|\n",
      "+---------------+------------+-----------------+-----------+------------------+-----------+------------+-------------+\n",
      "only showing top 5 rows\n",
      "\n"
     ]
    }
   ],
   "source": [
    "arrival_output_df.show(5)"
   ]
  },
  {
   "cell_type": "code",
   "execution_count": 47,
   "metadata": {
    "editable": true
   },
   "outputs": [],
   "source": [
    "immigrant_fact_df = spark.read.parquet(\"output/immigrant_fact_table\")"
   ]
  },
  {
   "cell_type": "code",
   "execution_count": 48,
   "metadata": {
    "editable": true
   },
   "outputs": [
    {
     "name": "stdout",
     "output_type": "stream",
     "text": [
      "+------+------+------+-------+------+--------+-------+-------+--------------+---------+----+-------+--------+-------------+----------+----------+-----+------+\n",
      "| cicid|i94cit|i94bir|biryear|gender|visatype|arrdate|depdate|      res_cnty|     visa|mode|  state|portname|    port_cnty|   arrival| departure|i94yr|i94mon|\n",
      "+------+------+------+-------+------+--------+-------+-------+--------------+---------+----+-------+--------+-------------+----------+----------+-----+------+\n",
      "|459651|   135|    54|   1962|  null|      WT|  20547|  20559|UNITED KINGDOM| Pleasure| Air|FLORIDA| ATLANTA|UNITED STATES|2016-04-03|2016-04-15| 2016|     4|\n",
      "|459652|   135|    74|   1942|     F|      WT|  20547|  20555|UNITED KINGDOM| Pleasure| Air|FLORIDA| ATLANTA|UNITED STATES|2016-04-03|2016-04-11| 2016|     4|\n",
      "|459653|   135|    44|   1972|     M|      B2|  20547|  20557|UNITED KINGDOM| Pleasure| Air|FLORIDA| ATLANTA|UNITED STATES|2016-04-03|2016-04-13| 2016|     4|\n",
      "|459654|   135|    38|   1978|  null|      WT|  20547|  20555|UNITED KINGDOM| Pleasure| Air|   null| ATLANTA|UNITED STATES|2016-04-03|2016-04-11| 2016|     4|\n",
      "|459655|   135|    64|   1952|     F|      WT|  20547|   null|UNITED KINGDOM| Pleasure| Air|GEORGIA| ATLANTA|UNITED STATES|2016-04-03|      null| 2016|     4|\n",
      "+------+------+------+-------+------+--------+-------+-------+--------------+---------+----+-------+--------+-------------+----------+----------+-----+------+\n",
      "only showing top 5 rows\n",
      "\n"
     ]
    }
   ],
   "source": [
    "immigrant_fact_df.show(5)"
   ]
  },
  {
   "cell_type": "code",
   "execution_count": 49,
   "metadata": {
    "editable": true
   },
   "outputs": [],
   "source": [
    "cities_out_df = spark.read.parquet(\"output/us_cities_demographics\")"
   ]
  },
  {
   "cell_type": "code",
   "execution_count": 50,
   "metadata": {
    "editable": true
   },
   "outputs": [
    {
     "name": "stdout",
     "output_type": "stream",
     "text": [
      "+-----------+----------+-----------+----------+---------------+-----------------+----------------+------------+------------------+-----------------+----------------+---------------------------+-------------------+----------------+\n",
      "|       City|State_Code|      State|Median_Age|Male_Population|Female_Population|Total_Population|Foreign_born|Avg_Household_Size|Native_Population|Asian_Population|African_American_Population|Hispanic_Population|White_population|\n",
      "+-----------+----------+-----------+----------+---------------+-----------------+----------------+------------+------------------+-----------------+----------------+---------------------------+-------------------+----------------+\n",
      "|     Newark|        NJ| New Jersey|      34.6|         138040|           143873|          281913|       86253|              2.73|             2268|            7349|                     144961|             100432|           76402|\n",
      "|Gainesville|        FL|    Florida|      26.0|          60803|            69330|          130133|       15272|              2.33|              740|           11963|                      32912|              12208|           87612|\n",
      "|     Denton|        TX|      Texas|      28.7|          62478|            68569|          131047|       18451|              2.66|             1857|            7061|                      15542|              29350|          106278|\n",
      "|  Baltimore|        MD|   Maryland|      34.7|         294027|           327822|          621849|       49857|              2.51|             7730|           20161|                     396270|              29953|          207274|\n",
      "|    Norwalk|        CT|Connecticut|      42.4|          40880|            47603|           88483|       22328|               2.7|              552|            2954|                      15129|              24682|           67844|\n",
      "+-----------+----------+-----------+----------+---------------+-----------------+----------------+------------+------------------+-----------------+----------------+---------------------------+-------------------+----------------+\n",
      "only showing top 5 rows\n",
      "\n"
     ]
    }
   ],
   "source": [
    "cities_out_df.show(5)"
   ]
  },
  {
   "cell_type": "markdown",
   "metadata": {
    "editable": true
   },
   "source": [
    "# Data Quality checks\n",
    "\n",
    "Checking all cities details are loaded into fact table"
   ]
  },
  {
   "cell_type": "code",
   "execution_count": 52,
   "metadata": {
    "editable": true
   },
   "outputs": [
    {
     "data": {
      "text/plain": [
       "567"
      ]
     },
     "execution_count": 52,
     "metadata": {},
     "output_type": "execute_result"
    }
   ],
   "source": [
    "cities_df.select(\"City\").distinct().count()"
   ]
  },
  {
   "cell_type": "code",
   "execution_count": 55,
   "metadata": {
    "editable": true
   },
   "outputs": [
    {
     "data": {
      "text/plain": [
       "567"
      ]
     },
     "execution_count": 55,
     "metadata": {},
     "output_type": "execute_result"
    }
   ],
   "source": [
    "cities_out_df.select(\"city\").distinct().count()"
   ]
  },
  {
   "cell_type": "code",
   "execution_count": 53,
   "metadata": {
    "editable": true
   },
   "outputs": [
    {
     "data": {
      "text/plain": [
       "879748"
      ]
     },
     "execution_count": 53,
     "metadata": {},
     "output_type": "execute_result"
    }
   ],
   "source": [
    "immigration_df.count()"
   ]
  },
  {
   "cell_type": "code",
   "execution_count": 54,
   "metadata": {
    "editable": true
   },
   "outputs": [
    {
     "data": {
      "text/plain": [
       "879748"
      ]
     },
     "execution_count": 54,
     "metadata": {},
     "output_type": "execute_result"
    }
   ],
   "source": [
    "immigrant_fact_df.count()"
   ]
  },
  {
   "cell_type": "code",
   "execution_count": null,
   "metadata": {
    "editable": true
   },
   "outputs": [],
   "source": []
  }
 ],
 "metadata": {
  "kernelspec": {
   "display_name": "Python 3",
   "language": "python",
   "name": "python3"
  },
  "language_info": {
   "codemirror_mode": {
    "name": "ipython",
    "version": 3
   },
   "file_extension": ".py",
   "mimetype": "text/x-python",
   "name": "python",
   "nbconvert_exporter": "python",
   "pygments_lexer": "ipython3",
   "version": "3.6.3"
  }
 },
 "nbformat": 4,
 "nbformat_minor": 4
}
